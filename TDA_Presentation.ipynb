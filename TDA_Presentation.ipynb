{
 "cells": [
  {
   "cell_type": "markdown",
   "metadata": {},
   "source": [
    "# Topology of Deep Neural Networks"
   ]
  },
  {
   "cell_type": "markdown",
   "metadata": {},
   "source": [
    "## 1. Introduction"
   ]
  },
  {
   "cell_type": "markdown",
   "metadata": {},
   "source": [
    "Analyze the topology of deep neural nets in binary classification tasks:  \n",
    "1) How is a simple neural net built?  \n",
    "2) Binary classification  \n",
    "3) topology of neural nets  \n",
    "4) Analysis of Topology"
   ]
  },
  {
   "cell_type": "markdown",
   "metadata": {},
   "source": [
    "### 1.1. Neural Nets"
   ]
  },
  {
   "cell_type": "markdown",
   "metadata": {},
   "source": [
    "A neural net is given by the composition of functions of the form $f(x) = K(Wx + b)$.  \n",
    "With $K$ being some non-linear function, the weight matrix $W$ and a bias vector $b$.  \n",
    "In the picture below, each hidden layer corresponds to one of these functions."
   ]
  },
  {
   "cell_type": "markdown",
   "metadata": {},
   "source": [
    "![alt text](images/intro_2.png \"Simple neural net\")"
   ]
  },
  {
   "cell_type": "markdown",
   "metadata": {},
   "source": [
    "### 1.2. Binary Classification"
   ]
  },
  {
   "cell_type": "markdown",
   "metadata": {},
   "source": [
    "In classification tasks, we try to say to which of the classes of a given set, a picture corresponds.  \n",
    "In binary classification, we have only two classes."
   ]
  },
  {
   "cell_type": "markdown",
   "metadata": {},
   "source": [
    "### 1.3. Topology of neural nets"
   ]
  },
  {
   "cell_type": "markdown",
   "metadata": {},
   "source": [
    "The figure below gives an inuition of what is meant by the topology of a neural net"
   ]
  },
  {
   "cell_type": "markdown",
   "metadata": {},
   "source": [
    "![alt text](images/intro_1.png \"Title\")"
   ]
  },
  {
   "cell_type": "markdown",
   "metadata": {},
   "source": [
    "- Given two disjoint manifolds (green and red)\n",
    "- Each corresponding to a certain class (e.g. red are all cat images and green are all dog images in our train set)\n",
    "- Each step corresponds to one layer in a well trained neural net\n",
    "- The betti numbers change in the following way:  \n",
    "$\\beta~(red): (1,2,0) \\rightarrow (1,2,0) \\rightarrow (2,1,0) \\rightarrow (2,0,0) \\rightarrow (1,0,0) \\rightarrow (1,0,0)$  \n",
    "$\\beta~(green): (2,2,0) \\rightarrow (2,2,0) \\rightarrow (2,1,0) \\rightarrow (2,0,0) \\rightarrow (2,0,0) \\rightarrow (1,0,0)$  \n",
    "- In the end we get two disjoint balls"
   ]
  },
  {
   "cell_type": "markdown",
   "metadata": {},
   "source": [
    "### 1.4. Analysis of Topology"
   ]
  },
  {
   "cell_type": "markdown",
   "metadata": {},
   "source": []
  },
  {
   "cell_type": "markdown",
   "metadata": {},
   "source": [
    "## 2. Methodology"
   ]
  },
  {
   "cell_type": "markdown",
   "metadata": {},
   "source": [
    "- We seek to classify two disjoint manifolds $M_a, M_b \\subset \\mathbb{R}^d$.  \n",
    "- Sample large but finite set of points $T\\subset M_a \\cup M_b$ uniformly and densely. Write $T_i = T \\cap M_i, i \\in \\{a,b\\}$.  \n",
    "- Feedforward NN is given by composition $\\nu = s \\circ f_l \\circ f_{l-1} \\circ \\dots \\circ f_2 \\circ f_1$, where the $f_i$ are the layers of the NN and $s$ is the score function.  \n",
    "- Write $\\nu_j = f_j \\circ \\dots \\circ f_2 \\circ f_1$ to denote the first $j$ layers of the NN.  \n",
    "- Train the network until it correctly classifies all training examples and almost all test examples. We call such a network \"well-trained\".  \n",
    "- Experiments are intended to show the topologies of $\\nu_j(M_a)$ and $\\nu_j(M_b)$ as j runs from 1 to $l$, for different manifolds and network architectures.  \n",
    "- Perform experiments on both simulated datasets, where we know the topology in advance, and real-world data. Real world datasets are more difficult to handle for various reasons, but the most important one for us is, that they have extremely complex topologies in general.  \n",
    "- Thus the experiments on simulated datasets are very extensive and we can then use some real-world datasets to validate our findings."
   ]
  },
  {
   "cell_type": "markdown",
   "metadata": {},
   "source": [
    "# (i) Generate the simulated datasets"
   ]
  },
  {
   "cell_type": "markdown",
   "metadata": {},
   "source": [
    "Hier n paar nice Bilder einfügen mit Betti-Zahlen. Gibt nicht viel zum Prozess zu sagen."
   ]
  },
  {
   "cell_type": "markdown",
   "metadata": {},
   "source": [
    "# (ii) Training neural networks"
   ]
  },
  {
   "cell_type": "markdown",
   "metadata": {},
   "source": [
    "Want to examine topology changing effects of:\n",
    "- different activations (ReLU, leaky ReLU, tanh\n",
    "- different network depths (4 to 10 layers)\n",
    "- different network widths (6 to 50 neurons per layer)"
   ]
  },
  {
   "cell_type": "markdown",
   "metadata": {},
   "source": [
    "# (iii) Computing Homology"
   ]
  },
  {
   "cell_type": "markdown",
   "metadata": {},
   "source": [
    "a) Building the Vietoris-Rips complex."
   ]
  },
  {
   "cell_type": "markdown",
   "metadata": {},
   "source": [
    "We don't simply use the Euclidean distance to build the VR-complex. Instead we first build the k-nearest-neighbour graph and use the geodesic distance on it, denoted by $\\delta_k$. For each $x_i, x_j \\in X$ the distance $\\delta_k(x_i, x_j)$ is defined by the minimal number of edges between the in the k-nearest neighbour graph. This has the effect of normalizing distances across layers in neural networks, while preserving connectivity of nearest neighbors. This is desirable, because the layers will change geometry quite drastically and this metric is rather robust to geometric changes, but will still reveal the topological ones, that we are looking for."
   ]
  },
  {
   "cell_type": "markdown",
   "metadata": {},
   "source": [
    "Now, our Vietoris-Rips complex depens on two parameters, that we need to set: $k$ for the metric and the usual $\\epsilon$ we need for the VR-complex."
   ]
  },
  {
   "cell_type": "markdown",
   "metadata": {},
   "source": [
    "For simulated data we will set parameters, such that the corresponding VR-complex has the same homology as the simulated dataset and then keep these parameters throughout the layers in the neural networks. This means, that we do not have to do persistent homology in every layer of every network, which will save us a lot of time, that we can invest in more experiments."
   ]
  },
  {
   "cell_type": "markdown",
   "metadata": {},
   "source": [
    "First set $\\epsilon = 1$ and find a $k$, such that the first betti-number is correct, then fix the found $k_\\star$ and proceed to tweak $\\epsilon$, until all the betti-numbers are correct."
   ]
  },
  {
   "cell_type": "code",
   "execution_count": null,
   "metadata": {},
   "outputs": [],
   "source": []
  }
 ],
 "metadata": {
  "kernelspec": {
   "display_name": "Python 3",
   "language": "python",
   "name": "python3"
  },
  "language_info": {
   "codemirror_mode": {
    "name": "ipython",
    "version": 3
   },
   "file_extension": ".py",
   "mimetype": "text/x-python",
   "name": "python",
   "nbconvert_exporter": "python",
   "pygments_lexer": "ipython3",
   "version": "3.8.10"
  }
 },
 "nbformat": 4,
 "nbformat_minor": 4
}
